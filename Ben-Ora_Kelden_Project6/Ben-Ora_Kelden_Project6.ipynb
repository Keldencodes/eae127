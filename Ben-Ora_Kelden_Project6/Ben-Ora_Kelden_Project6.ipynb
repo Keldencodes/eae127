{
 "cells": [
  {
   "cell_type": "markdown",
   "metadata": {},
   "source": [
    "# Project 6: Airfoil Performance and Wing Design\n"
   ]
  },
  {
   "cell_type": "code",
   "execution_count": 49,
   "metadata": {},
   "outputs": [
    {
     "name": "stdout",
     "output_type": "stream",
     "text": [
      "Design Reynold's number: 1.99e+07\n",
      "CL_cruise: 0.246\n",
      "CL_2g: 0.491\n"
     ]
    }
   ],
   "source": [
    "# 1.1a\n",
    "# Design conditions\n",
    "s = 235 # ft2 wing area\n",
    "c = 9 # ft chord length\n",
    "b = 42.5 # ft span\n",
    "Vcruise = 400 # mph\n",
    "Vcruise = Vcruise*5280/3600 # ft/s\n",
    "h = 21000 # ft geometric cruise altitude\n",
    "w = 15000 # lbs loaded weight\n",
    "mu = 3.25e-7 # slugs/fts dynamic viscosity at h\n",
    "rho = 1.2249e-3 # slugs/ft3 air density at h\n",
    "\n",
    "Re = rho * Vcruise * c / mu\n",
    "Cl_cruise = 2*w/(c*rho*Vcruise**2)/32.2\n",
    "print(f\"Design Reynold's number: {Re:.2e}\")\n",
    "print(f\"CL_cruise: {Cl_cruise:.3f}\")\n",
    "print(f\"CL_2g: {Cl_cruise*2:.3f}\")"
   ]
  },
  {
   "cell_type": "code",
   "execution_count": 50,
   "metadata": {},
   "outputs": [
    {
     "data": {
      "image/png": "[encoded data removed]",
      "text/plain": [
       "<Figure size 432x288 with 1 Axes>"
      ]
     },
     "metadata": {
      "needs_background": "light"
     },
     "output_type": "display_data"
    }
   ],
   "source": [
    "# Creating 24012 geometry with code from project 1\n",
    "import numpy as np\n",
    "import matplotlib.pyplot as plt\n",
    "import pandas as pd\n",
    "\n",
    "airfoil_name = '24012'\n",
    "chord = 1\n",
    "\n",
    "def airfoil_surface(airfoil, c):\n",
    "    \n",
    "    tau = ''.join(list(airfoil)[2:4]) # grab just the third and fourth digits from the NACA code\n",
    "    t = int(tau)/100/c\n",
    "\n",
    "    x = np.linspace(start=0, stop=1, num=101)\n",
    "    x *= c # just in case chord is not 1\n",
    "    # Given formula for symmetric airfoil surface points\n",
    "    zt_c_upper = t/0.2*(0.2969*(x/c)**0.5 - 0.126*(x/c) - 0.3516*(x/c)**2 + 0.2843*(x/c)**3 - 0.1015*(x/c)**4) \n",
    "    zt_c_lower = -zt_c_upper # The lower surface is just the reflection of the upper surface\n",
    "    camber = 0*x\n",
    "    \n",
    "    # output in following format: [[x], [top surface], [bottom surface], [camber]]\n",
    "    return [x, zt_c_upper, zt_c_lower, camber]\n",
    "\n",
    "def cambered_airfoil_5(foil, c):\n",
    "    L = int(list(foil)[0])\n",
    "    P = int(list(foil)[1])\n",
    "    TT = int(''.join(list(foil)[3:5]))\n",
    "    r = [0.058, 0.126, 0.2025, 0.29, 0.391]\n",
    "    k1 = [361.400, 51.640, 15.957, 6.643, 3.230]\n",
    "    x = np.linspace(start=0, stop=1, num=101)\n",
    "    camber = np.zeros(len(x)) # set up the camber variable\n",
    "    for i in range(len(camber)): # looping through to define each camber point based on given formula\n",
    "        if x[i] < r[P-1]: # piecewise criteria\n",
    "            camber[i] =  k1[P-1]/6*((x[i]**3) - (3*r[P-1]*x[i]**2)+(r[P-1])**2*(3-r[P-1])*x[i])# given formula for first piecewise section\n",
    "        else:\n",
    "            camber[i] =  k1[P-1]*r[P-1]**3/6*(1-x[i])# fiven formula for second piecewise section\n",
    "    camber *= L/2\n",
    "    # inputting thickness information into function created for problem 1.1 to get airfoil's outer geometry\n",
    "    airfoil_geometry = airfoil_surface(f'00{TT}', c)\n",
    "    zt_c_upper = np.add(camber, airfoil_geometry[1]) # using camber line to get airfoil surface because it's not symmetric\n",
    "    zt_c_lower = np.add(camber, airfoil_geometry[2])\n",
    "    return x, zt_c_upper, zt_c_lower\n",
    "\n",
    "x, zt_c_upper, zt_c_lower = cambered_airfoil_5(airfoil_name, chord)\n",
    "x = np.concatenate((np.flip(x), x))\n",
    "z = np.concatenate((np.flip(zt_c_upper), zt_c_lower))\n",
    "df = pd.DataFrame({'x': x, 'z': z})\n",
    "df.to_csv('data/naca24012.dat', sep='\\t', index=False)\n",
    "        "
   ]
  }
 ],
 "metadata": {
  "interpreter": {
   "hash": "888b0b947442d5fb979a9ee905063aa7d089663925c8cff8ba6dd4bd227b44f6"
  },
  "kernelspec": {
   "display_name": "Python 3.8.8 64-bit ('base': conda)",
   "language": "python",
   "name": "python3"
  },
  "language_info": {
   "codemirror_mode": {
    "name": "ipython",
    "version": 3
   },
   "file_extension": ".py",
   "mimetype": "text/x-python",
   "name": "python",
   "nbconvert_exporter": "python",
   "pygments_lexer": "ipython3",
   "version": "3.8.8"
  },
  "orig_nbformat": 4
 },
 "nbformat": 4,
 "nbformat_minor": 2
}
