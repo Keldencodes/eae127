{
 "cells": [
  {
   "cell_type": "markdown",
   "id": "14b06222",
   "metadata": {},
   "source": [
    "# Project 1: Introduction to Airfoils and XFOIL\n"
   ]
  },
  {
   "cell_type": "code",
   "execution_count": null,
   "id": "9afcc11e",
   "metadata": {},
   "outputs": [],
   "source": [
    "# Initial import of required modules\n",
    "import numpy as np\n",
    "import matplotlib.pyplot as plt"
   ]
  },
  {
   "cell_type": "markdown",
   "id": "22d38b79",
   "metadata": {},
   "source": [
    "## Problem 1: Airfoil Geometry Characteristics\n",
    "\n",
    "### Problem 1.1: Designing Symmetric Airfoils"
   ]
  },
  {
   "cell_type": "code",
   "execution_count": null,
   "id": "bcaa0d4f",
   "metadata": {},
   "outputs": [],
   "source": [
    "airfoil = '0012' # arbitrarily chosen symmetric airfoil\n",
    "chord = 1 # chord length\n",
    "\n",
    "# This function plots a given NACA symmetric airfoil\n",
    "def symmetric_airfoil(airfoil, c):\n",
    "    \n",
    "    tau = ''.join(list(airfoil)[2:4]) # grab just the third and fourth digits from the NACA code\n",
    "    t = int(tau)/100/c\n",
    "\n",
    "    x = np.linspace(start=0, stop=1, num=200)\n",
    "    zt_c_upper = t/0.2*(0.2969*(x/c)**0.5 - 0.126*(x/c) - 0.3516*(x/c)**2 + 0.2843*(x/c)**3 - 0.1015*(x/c)**4) # Given formula for symmetric airfoil surface points\n",
    "    zt_c_lower = -zt_c_upper # The lower surface is just the reflection of the upper surface\n",
    "    camber = 0*x\n",
    "    plt.plot(x, zt_c_upper, 'b', label='Upper') # Plot upper surface\n",
    "    plt.plot(x, zt_c_lower, 'g', label='Lower') # Plot lower surface\n",
    "    plt.plot(x, camber, 'k', linestyle='--', label='Camber') # Plot camber line\n",
    "    plt.axis('equal')\n",
    "    plt.legend()\n",
    "    plt.show()\n",
    "    \n",
    "symmetric_airfoil(airfoil, chord) # run the function with the previously chosen airfoil and chord length"
   ]
  },
  {
   "cell_type": "code",
   "execution_count": null,
   "id": "7576a2a5",
   "metadata": {},
   "outputs": [],
   "source": []
  }
 ],
 "metadata": {
  "kernelspec": {
   "display_name": "Python 3",
   "language": "python",
   "name": "python3"
  },
  "language_info": {
   "codemirror_mode": {
    "name": "ipython",
    "version": 3
   },
   "file_extension": ".py",
   "mimetype": "text/x-python",
   "name": "python",
   "nbconvert_exporter": "python",
   "pygments_lexer": "ipython3",
   "version": "3.8.8"
  }
 },
 "nbformat": 4,
 "nbformat_minor": 5
}
